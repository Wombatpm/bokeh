{
 "cells": [
  {
   "cell_type": "code",
   "execution_count": null,
   "metadata": {
    "collapsed": false
   },
   "outputs": [],
   "source": [
    "from collections import OrderedDict\n",
    "\n",
    "import numpy as np\n",
    "\n",
    "from bokeh.charts import BoxPlot, output_notebook, show\n",
    "from bokeh.sampledata.olympics2014 import data"
   ]
  },
  {
   "cell_type": "code",
   "execution_count": null,
   "metadata": {
    "collapsed": false
   },
   "outputs": [],
   "source": [
    "output_notebook()"
   ]
  },
  {
   "cell_type": "code",
   "execution_count": null,
   "metadata": {
    "collapsed": false
   },
   "outputs": [],
   "source": [
    "data = {d['abbr']: d['medals'] for d in data['data'] if d['medals']['total'] > 0}\n",
    "\n",
    "countries = sorted(data.keys(), key=lambda x: data[x]['total'], reverse=True)\n",
    "\n",
    "gold = np.array([data[abbr]['gold'] for abbr in countries], dtype=np.float)\n",
    "silver = np.array([data[abbr]['silver'] for abbr in countries], dtype=np.float)\n",
    "bronze = np.array([data[abbr]['bronze'] for abbr in countries], dtype=np.float)\n",
    "\n",
    "medals = OrderedDict(bronze=bronze, silver=silver, gold=gold, fake=gold)"
   ]
  },
  {
   "cell_type": "code",
   "execution_count": null,
   "metadata": {
    "collapsed": false
   },
   "outputs": [],
   "source": [
    "boxplot = BoxPlot(\n",
    "    medals, title=\"boxplot, dict input\", xlabel=\"medal type\", ylabel=\"medal count\", \n",
    "    width=600, height=400, marker=\"circle\", outliers=True)\n",
    "show(boxplot)"
   ]
  },
  {
   "cell_type": "code",
   "execution_count": null,
   "metadata": {
    "collapsed": false
   },
   "outputs": [],
   "source": []
  }
 ],
 "metadata": {},
 "nbformat": 4,
 "nbformat_minor": 0
}