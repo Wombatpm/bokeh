{
 "cells": [
  {
   "cell_type": "code",
   "execution_count": null,
   "metadata": {
    "collapsed": false
   },
   "outputs": [],
   "source": [
    "from collections import OrderedDict\n",
    "\n",
    "import pandas as pd\n",
    "import numpy as np\n",
    "\n",
    "from bokeh.charts import Dot, output_notebook, show"
   ]
  },
  {
   "cell_type": "code",
   "execution_count": null,
   "metadata": {
    "collapsed": false
   },
   "outputs": [],
   "source": [
    "output_notebook()"
   ]
  },
  {
   "cell_type": "code",
   "execution_count": null,
   "metadata": {
    "collapsed": false
   },
   "outputs": [],
   "source": [
    "# create some example data\n",
    "xyvalues = OrderedDict(\n",
    "    python=[2, 3, 7, 5, 26],\n",
    "    pypy=[12, 33, 47, 15, 126],\n",
    "    jython=[22, 43, 10, 25, 26],\n",
    ")"
   ]
  },
  {
   "cell_type": "code",
   "execution_count": null,
   "metadata": {
    "collapsed": false
   },
   "outputs": [],
   "source": [
    "dots = Dot(\n",
    "    xyvalues, cat=['lists','loops','dicts', 'gen exp', 'exceptions'],\n",
    "    title=\"Dots Example, dict input\", ylabel='Performance', legend='top_left')\n",
    "show(dots)"
   ]
  },
  {
   "cell_type": "code",
   "execution_count": null,
   "metadata": {
    "collapsed": false
   },
   "outputs": [],
   "source": [
    "df = pd.DataFrame(xyvalues)\n",
    "dots = Dot(\n",
    "    df, cat=['lists','loops','dicts', 'gen exp', 'exceptions'],\n",
    "    title=\"Dots Example, pandas input\", ylabel='Performance', legend='top_left')\n",
    "show(dots)"
   ]
  },
  {
   "cell_type": "code",
   "execution_count": null,
   "metadata": {
    "collapsed": false
   },
   "outputs": [],
   "source": [
    "lxyvalues = list(xyvalues.values())\n",
    "dots = Dot(\n",
    "    lxyvalues, cat=['lists','loops','dicts', 'gen exp', 'exceptions'],\n",
    "    title=\"Dots Example, list input\", ylabel='Performance', legend='top_left')\n",
    "show(dots)"
   ]
  },
  {
   "cell_type": "code",
   "execution_count": null,
   "metadata": {
    "collapsed": false
   },
   "outputs": [],
   "source": []
  }
 ],
 "metadata": {},
 "nbformat": 4,
 "nbformat_minor": 0
}