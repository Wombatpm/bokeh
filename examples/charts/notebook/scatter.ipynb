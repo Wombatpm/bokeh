{
 "cells": [
  {
   "cell_type": "code",
   "execution_count": null,
   "metadata": {
    "collapsed": false
   },
   "outputs": [],
   "source": [
    "from collections import OrderedDict\n",
    "\n",
    "import pandas as pd\n",
    "\n",
    "from bokeh.charts import Scatter, output_notebook, show\n",
    "from bokeh.sampledata.iris import flowers"
   ]
  },
  {
   "cell_type": "code",
   "execution_count": null,
   "metadata": {
    "collapsed": false
   },
   "outputs": [],
   "source": [
    "output_notebook()"
   ]
  },
  {
   "cell_type": "code",
   "execution_count": null,
   "metadata": {
    "collapsed": false
   },
   "outputs": [],
   "source": [
    "setosa = flowers[(flowers.species == \"setosa\")][[\"petal_length\", \"petal_width\"]]\n",
    "versicolor = flowers[(flowers.species == \"versicolor\")][[\"petal_length\", \"petal_width\"]]\n",
    "virginica = flowers[(flowers.species == \"virginica\")][[\"petal_length\", \"petal_width\"]]\n",
    "\n",
    "xyvalues = OrderedDict([\n",
    "    (\"setosa\", setosa.values), \n",
    "    (\"versicolor\", versicolor.values), \n",
    "    (\"virginica\", virginica.values)\n",
    "])"
   ]
  },
  {
   "cell_type": "code",
   "execution_count": null,
   "metadata": {
    "collapsed": false
   },
   "outputs": [],
   "source": [
    "scatter = Scatter(\n",
    "    xyvalues, title=\"iris dataset, dict input\", \n",
    "    xlabel=\"petal_length\", ylabel=\"petal_width\", legend='top_left')\n",
    "show(scatter)"
   ]
  },
  {
   "cell_type": "code",
   "execution_count": null,
   "metadata": {
    "collapsed": false
   },
   "outputs": [],
   "source": [
    "groupped_df = flowers[[\"petal_length\", \"petal_width\", \"species\"]].groupby(\"species\")\n",
    "scatter = Scatter(\n",
    "    groupped_df, title=\"iris dataset, grouped pandas input\", \n",
    "    xlabel=\"petal_length\", ylabel=\"petal_width\", legend='top_left')\n",
    "show(scatter)"
   ]
  },
  {
   "cell_type": "code",
   "execution_count": null,
   "metadata": {
    "collapsed": false
   },
   "outputs": [],
   "source": [
    "pdict = OrderedDict()\n",
    "for i in groupped_df.groups.keys():\n",
    "    labels = groupped_df.get_group(i).columns\n",
    "    xname = labels[0]\n",
    "    yname = labels[1]\n",
    "    x = getattr(groupped_df.get_group(i), xname)\n",
    "    y = getattr(groupped_df.get_group(i), yname)\n",
    "    pdict[i] = list(zip(x, y))"
   ]
  },
  {
   "cell_type": "code",
   "execution_count": null,
   "metadata": {
    "collapsed": false
   },
   "outputs": [],
   "source": [
    "df = pd.DataFrame(pdict)\n",
    "scatter = Scatter(\n",
    "    df, title=\"iris dataset, pandas input\", \n",
    "    xlabel=\"petal_length\", ylabel=\"petal_width\", legend='top_left')\n",
    "show(scatter)"
   ]
  },
  {
   "cell_type": "code",
   "execution_count": null,
   "metadata": {
    "collapsed": false
   },
   "outputs": [],
   "source": [
    "scatter = Scatter(\n",
    "    list(xyvalues.values()), title=\"iris dataset, list input\", \n",
    "    xlabel=\"petal_length\", ylabel=\"petal_width\", legend='top_left')\n",
    "show(scatter)"
   ]
  },
  {
   "cell_type": "code",
   "execution_count": null,
   "metadata": {
    "collapsed": false
   },
   "outputs": [],
   "source": []
  }
 ],
 "metadata": {},
 "nbformat": 4,
 "nbformat_minor": 0
}